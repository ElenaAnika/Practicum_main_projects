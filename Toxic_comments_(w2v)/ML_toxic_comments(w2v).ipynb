{
 "cells": [
  {
   "cell_type": "markdown",
   "metadata": {
    "toc": true
   },
   "source": [
    "<h1>Содержание<span class=\"tocSkip\"></span></h1>\n",
    "<div class=\"toc\"><ul class=\"toc-item\"><li><span><a href=\"#Подготовка\" data-toc-modified-id=\"Подготовка-1\"><span class=\"toc-item-num\">1&nbsp;&nbsp;</span>Подготовка</a></span></li><li><span><a href=\"#Обучение\" data-toc-modified-id=\"Обучение-2\"><span class=\"toc-item-num\">2&nbsp;&nbsp;</span>Обучение</a></span></li><li><span><a href=\"#Выводы\" data-toc-modified-id=\"Выводы-3\"><span class=\"toc-item-num\">3&nbsp;&nbsp;</span>Выводы</a></span></li><li><span><a href=\"#Чек-лист-проверки\" data-toc-modified-id=\"Чек-лист-проверки-4\"><span class=\"toc-item-num\">4&nbsp;&nbsp;</span>Чек-лист проверки</a></span></li></ul></div>"
   ]
  },
  {
   "attachments": {},
   "cell_type": "markdown",
   "metadata": {},
   "source": [
    "# Проект классификации отзывов"
   ]
  },
  {
   "attachments": {},
   "cell_type": "markdown",
   "metadata": {},
   "source": [
    "Интернет-магазин  запускает новый сервис. Теперь пользователи могут редактировать и дополнять описания товаров, как в вики-сообществах. То есть клиенты предлагают свои правки и комментируют изменения других. Магазину нужен инструмент, который будет искать токсичные комментарии и отправлять их на модерацию. \n",
    "\n",
    "Перед нами задача классификации текстов: необходимо обучить модель классифицировать комментарии на позитивные и негативные. В нашем распоряжении набор данных с разметкой о токсичности правок.\n",
    "\n",
    "Задача от заказчика: получение на модели метрики качества *F1* не меньше 0.75. \n",
    "\n",
    "**Описание данных**\n",
    "\n",
    "Данные находятся в файле `toxic_comments.csv`. Столбец *text* в нём содержит текст комментария, а *toxic* — целевой признак."
   ]
  },
  {
   "cell_type": "markdown",
   "metadata": {},
   "source": [
    "## Подготовка"
   ]
  },
  {
   "cell_type": "markdown",
   "metadata": {},
   "source": [
    "Загрузим необходимые библиотеки, выполним загрузку недостающих пакетов и откроем файл."
   ]
  },
  {
   "cell_type": "code",
   "execution_count": 1,
   "metadata": {},
   "outputs": [],
   "source": [
    "import os\n",
    "\n",
    "import joblib\n",
    "import lightgbm as lgb\n",
    "import matplotlib.pyplot as plt\n",
    "import nltk\n",
    "import pandas as pd\n",
    "import pickle\n",
    "import re \n",
    "\n",
    "from imblearn.over_sampling import SMOTE\n",
    "from imblearn.pipeline import Pipeline \n",
    "from imblearn.pipeline import make_pipeline as make_pipeline_imb\n",
    "\n",
    "from joblib import Parallel, delayed\n",
    "\n",
    "from nltk.corpus import stopwords as nltk_stopwords\n",
    "from nltk.stem import WordNetLemmatizer\n",
    "\n",
    "from sklearn.feature_extraction.text import TfidfVectorizer \n",
    "from sklearn.ensemble import RandomForestClassifier\n",
    "from sklearn.linear_model import LogisticRegression\n",
    "from sklearn.model_selection import cross_val_score, train_test_split, GridSearchCV\n",
    "from sklearn.metrics import f1_score, roc_auc_score, roc_curve, classification_report\n",
    "from sklearn import svm\n",
    "from sklearn.tree import DecisionTreeClassifier\n",
    "from sklearn.utils import shuffle"
   ]
  },
  {
   "cell_type": "code",
   "execution_count": 2,
   "metadata": {},
   "outputs": [
    {
     "name": "stderr",
     "output_type": "stream",
     "text": [
      "[nltk_data] Downloading package wordnet to /Users/iair/nltk_data...\n",
      "[nltk_data]   Package wordnet is already up-to-date!\n",
      "[nltk_data] Downloading package omw-1.4 to /Users/iair/nltk_data...\n",
      "[nltk_data]   Package omw-1.4 is already up-to-date!\n",
      "[nltk_data] Downloading package stopwords to /Users/iair/nltk_data...\n",
      "[nltk_data]   Package stopwords is already up-to-date!\n"
     ]
    },
    {
     "data": {
      "text/plain": [
       "True"
      ]
     },
     "execution_count": 2,
     "metadata": {},
     "output_type": "execute_result"
    }
   ],
   "source": [
    "nltk.download('wordnet')# пакет для WordNetLemmatizer\n",
    "nltk.download('omw-1.4') # аналогично\n",
    "nltk.download('stopwords')# пакет для очистки от не несущих смысловую нагрузку слов"
   ]
  },
  {
   "cell_type": "code",
   "execution_count": 3,
   "metadata": {},
   "outputs": [],
   "source": [
    "pth0 = '/Users/iair/Documents/Документы Алена/Яндекс_практикум/Machine_learning_for_texts/toxic_comments.csv'\n",
    "pth1 = '/datasets/toxic_comments.csv'\n",
    "if os.path.exists(pth0):\n",
    "    df = pd.read_csv(pth0)\n",
    "elif os.path.exists(pth1):\n",
    "    df = pd.read_csv(pth1)\n",
    "else:\n",
    "    print(\"Проверьте правильность пути к датасету\")"
   ]
  },
  {
   "cell_type": "code",
   "execution_count": 4,
   "metadata": {
    "scrolled": true
   },
   "outputs": [
    {
     "data": {
      "text/html": [
       "<div>\n",
       "<style scoped>\n",
       "    .dataframe tbody tr th:only-of-type {\n",
       "        vertical-align: middle;\n",
       "    }\n",
       "\n",
       "    .dataframe tbody tr th {\n",
       "        vertical-align: top;\n",
       "    }\n",
       "\n",
       "    .dataframe thead th {\n",
       "        text-align: right;\n",
       "    }\n",
       "</style>\n",
       "<table border=\"1\" class=\"dataframe\">\n",
       "  <thead>\n",
       "    <tr style=\"text-align: right;\">\n",
       "      <th></th>\n",
       "      <th>Unnamed: 0</th>\n",
       "      <th>text</th>\n",
       "      <th>toxic</th>\n",
       "    </tr>\n",
       "  </thead>\n",
       "  <tbody>\n",
       "    <tr>\n",
       "      <th>0</th>\n",
       "      <td>0</td>\n",
       "      <td>Explanation\\nWhy the edits made under my usern...</td>\n",
       "      <td>0</td>\n",
       "    </tr>\n",
       "    <tr>\n",
       "      <th>1</th>\n",
       "      <td>1</td>\n",
       "      <td>D'aww! He matches this background colour I'm s...</td>\n",
       "      <td>0</td>\n",
       "    </tr>\n",
       "    <tr>\n",
       "      <th>2</th>\n",
       "      <td>2</td>\n",
       "      <td>Hey man, I'm really not trying to edit war. It...</td>\n",
       "      <td>0</td>\n",
       "    </tr>\n",
       "    <tr>\n",
       "      <th>3</th>\n",
       "      <td>3</td>\n",
       "      <td>\"\\nMore\\nI can't make any real suggestions on ...</td>\n",
       "      <td>0</td>\n",
       "    </tr>\n",
       "    <tr>\n",
       "      <th>4</th>\n",
       "      <td>4</td>\n",
       "      <td>You, sir, are my hero. Any chance you remember...</td>\n",
       "      <td>0</td>\n",
       "    </tr>\n",
       "  </tbody>\n",
       "</table>\n",
       "</div>"
      ],
      "text/plain": [
       "   Unnamed: 0                                               text  toxic\n",
       "0           0  Explanation\\nWhy the edits made under my usern...      0\n",
       "1           1  D'aww! He matches this background colour I'm s...      0\n",
       "2           2  Hey man, I'm really not trying to edit war. It...      0\n",
       "3           3  \"\\nMore\\nI can't make any real suggestions on ...      0\n",
       "4           4  You, sir, are my hero. Any chance you remember...      0"
      ]
     },
     "execution_count": 4,
     "metadata": {},
     "output_type": "execute_result"
    }
   ],
   "source": [
    "df.head()"
   ]
  },
  {
   "cell_type": "code",
   "execution_count": 5,
   "metadata": {},
   "outputs": [
    {
     "data": {
      "image/png": "[encoded data removed]",
      "text/plain": [
       "<Figure size 432x288 with 1 Axes>"
      ]
     },
     "metadata": {
      "needs_background": "light"
     },
     "output_type": "display_data"
    }
   ],
   "source": [
    "class_frequency = df['toxic'].value_counts(normalize=(0,1))#посчитаем долю каждого класса\n",
    "g = class_frequency.plot(kind='bar')\n",
    "g.axes.set_title(\"Распределение классов в целевом признаке (токсичность)\", fontsize=14)\n",
    "g.set_xlabel(\"0 - обычные комментарии, 1 - токсичные\", fontsize=10)\n",
    "g.set_ylabel(\"Доля в общем количестве\", fontsize=10);\n",
    "plt.show()"
   ]
  },
  {
   "cell_type": "code",
   "execution_count": 6,
   "metadata": {
    "scrolled": true
   },
   "outputs": [
    {
     "data": {
      "text/plain": [
       "0.10161213369158527"
      ]
     },
     "execution_count": 6,
     "metadata": {},
     "output_type": "execute_result"
    }
   ],
   "source": [
    "df[df['toxic'] ==1]['text'].count()/len(df['toxic'])"
   ]
  },
  {
   "cell_type": "markdown",
   "metadata": {},
   "source": [
    "Итак, у нас в наличии \"сырые\" твиты на английском языке, размеченные по градации токсичный/ не токсичный. Всего токсичных твитов чуть более 10%.\n",
    "Выполним подготовку текста: очистим и лемматизируем текст, добавим его в отдельную колонку датафрейма. \n",
    "\n",
    "Напишем функции лемматизации и очистки текста от спецсимволов и лишних пропусков."
   ]
  },
  {
   "cell_type": "code",
   "execution_count": 7,
   "metadata": {},
   "outputs": [],
   "source": [
    "def lemmatize(text):\n",
    "    w_tokenizer = nltk.tokenize.WhitespaceTokenizer()\n",
    "    lemmatizer = nltk.stem.WordNetLemmatizer()\n",
    "    lemm_list = [lemmatizer.lemmatize(w) for w in w_tokenizer.tokenize(text)]\n",
    "    lemm_text = \" \".join(lemm_list)\n",
    "        \n",
    "    return lemm_text\n",
    "\n",
    "\n",
    "def clear_text(text):\n",
    "    x = re.sub(r'[^a-zA-Z]', ' ', text)\n",
    "    y = \" \".join(x.split())\n",
    "    return y"
   ]
  },
  {
   "cell_type": "markdown",
   "metadata": {},
   "source": [
    "Создадим столбец, куда поместим сразу очищенный и лемматизированный текст для дальнейшей обработки."
   ]
  },
  {
   "cell_type": "code",
   "execution_count": 8,
   "metadata": {
    "scrolled": true
   },
   "outputs": [
    {
     "name": "stdout",
     "output_type": "stream",
     "text": [
      "CPU times: user 26.8 s, sys: 171 ms, total: 27 s\n",
      "Wall time: 27 s\n"
     ]
    }
   ],
   "source": [
    "%%time\n",
    "df['lemm_text'] = df['text'].apply(lambda x: clear_text(lemmatize(x)))"
   ]
  },
  {
   "cell_type": "markdown",
   "metadata": {},
   "source": [
    "Соответственно, выделим из нашего датасета признаки (лемматизированный текст, т.к. именно его можно далее трансформировать в вектор) и целевой признак (токсичные комментарии)."
   ]
  },
  {
   "cell_type": "code",
   "execution_count": 9,
   "metadata": {},
   "outputs": [],
   "source": [
    "features = df['lemm_text']\n",
    "target = df['toxic']"
   ]
  },
  {
   "cell_type": "markdown",
   "metadata": {},
   "source": [
    "Разделим выборку на тренировочную и тестовую. Возьмем классическую пропорцию 75%/25%, стратифицируем по целевому признаку для пропорциональности разделения."
   ]
  },
  {
   "cell_type": "code",
   "execution_count": 10,
   "metadata": {},
   "outputs": [],
   "source": [
    "train_features, test_features, train_target, test_target = train_test_split(\n",
    "    features,\n",
    "    target,\n",
    "    test_size=0.25,\n",
    "    stratify = target)"
   ]
  },
  {
   "cell_type": "markdown",
   "metadata": {},
   "source": [
    "Теперь преобразуем признаки в векторный вид и закодируем частоту употреблений отдельных слов встречается во всём корпусе и в отдельном его тексте. "
   ]
  },
  {
   "cell_type": "code",
   "execution_count": 11,
   "metadata": {},
   "outputs": [],
   "source": [
    "stopwords = set(nltk_stopwords.words('english'))"
   ]
  },
  {
   "cell_type": "markdown",
   "metadata": {},
   "source": [
    "Признаки готовы, можно начинать обучение."
   ]
  },
  {
   "cell_type": "markdown",
   "metadata": {},
   "source": [
    "## Обучение"
   ]
  },
  {
   "cell_type": "markdown",
   "metadata": {},
   "source": [
    "Перед обучением вспомним о том, что целевой класс представлен только в 10% случаев. Чтобы сбалансировать данные, применим готовое решение в imblearn и выполним oversamplingс помощью SMOTE, который создаст недостающий объем элементов малого класса путем синтеза их из ближайших соседей."
   ]
  },
  {
   "cell_type": "markdown",
   "metadata": {},
   "source": [
    "Напишем функцию, которая позволит нам подавать на вход модель, параметры и данные, проводить их через векторизацию, выполнять сэмплирование данных и передавать это все в модель с поиском наилучших параметров через Grid."
   ]
  },
  {
   "cell_type": "code",
   "execution_count": 18,
   "metadata": {},
   "outputs": [],
   "source": [
    "def make_some_pipe (model_name, model, parameters, features_train, target_train):\n",
    "    \n",
    "    #oversample with SMOTE + \n",
    "    pipeline = make_pipeline_imb(TfidfVectorizer(stop_words=stopwords),\n",
    "                            SMOTE(\n",
    "                                sampling_strategy='minority',random_state=12345),\n",
    "                            shuffle(random_state=12345),\n",
    "                            model\n",
    "                           )\n",
    "    gs = GridSearchCV(pipeline, parameters, n_jobs=-1, cv=5, scoring = 'f1')\n",
    "    print('\\nEstimator: %s' % model_name)\n",
    "    gs.fit(features_train, target_train)\n",
    "    print('Best training F1: %.3f' % gs.best_score_)\n",
    "    dump_file = 'best_estimator.pkl'\n",
    "    joblib.dump(gs.best_estimator_, dump_file, compress=1)\n",
    "    print('\\nSaved %s grid search pipeline to file: %s' % (model_name, dump_file))"
   ]
  },
  {
   "cell_type": "code",
   "execution_count": 19,
   "metadata": {},
   "outputs": [
    {
     "name": "stdout",
     "output_type": "stream",
     "text": [
      "\n",
      "Estimator: LogisticRegression\n",
      "Best training F1: 0.674\n",
      "\n",
      "Saved LogisticRegression grid search pipeline to file: best_estimator.pkl\n",
      "CPU times: user 31.4 s, sys: 8.48 s, total: 39.8 s\n",
      "Wall time: 46.9 s\n"
     ]
    }
   ],
   "source": [
    "%%time\n",
    "make_some_pipe(model_name = 'LogisticRegression',\n",
    "               model = LogisticRegression(\n",
    "                   random_state=12345,max_iter=2000,class_weight = 'balanced'\n",
    "               ),\n",
    "               parameters = [{'logisticregression__C':[1.0, 0.5]}],\n",
    "               features_train = train_features,\n",
    "               target_train = train_target)"
   ]
  },
  {
   "cell_type": "code",
   "execution_count": 20,
   "metadata": {},
   "outputs": [
    {
     "data": {
      "text/plain": [
       "['model_reg.pkl']"
      ]
     },
     "execution_count": 20,
     "metadata": {},
     "output_type": "execute_result"
    }
   ],
   "source": [
    "model_reg = joblib.load('best_estimator.pkl')\n",
    "joblib.dump(model_reg, 'model_reg.pkl', compress=1)"
   ]
  },
  {
   "cell_type": "markdown",
   "metadata": {},
   "source": [
    "Полученный результат недостаточен требований заказчика, однако следует отметить, что точность может быть ниже на тестовых данных. Проверим еще модель случайного леса."
   ]
  },
  {
   "cell_type": "code",
   "execution_count": 21,
   "metadata": {},
   "outputs": [
    {
     "name": "stdout",
     "output_type": "stream",
     "text": [
      "\n",
      "Estimator: RandomForestClassifier\n",
      "Best training F1: 0.372\n",
      "\n",
      "Saved RandomForestClassifier grid search pipeline to file: best_estimator.pkl\n",
      "CPU times: user 24.1 s, sys: 19.9 s, total: 44 s\n",
      "Wall time: 9min 14s\n"
     ]
    }
   ],
   "source": [
    "%%time\n",
    "make_some_pipe(model_name = 'RandomForestClassifier',\n",
    "               model = RandomForestClassifier(random_state=12345, class_weight = 'balanced'),\n",
    "               parameters = [{'randomforestclassifier__n_estimators': range (100, 200, 25),\n",
    "              'randomforestclassifier__max_depth': range (1,11)}],\n",
    "               features_train = train_features,\n",
    "               target_train = train_target)"
   ]
  },
  {
   "cell_type": "code",
   "execution_count": 22,
   "metadata": {},
   "outputs": [
    {
     "data": {
      "text/plain": [
       "['model_forest.pkl']"
      ]
     },
     "execution_count": 22,
     "metadata": {},
     "output_type": "execute_result"
    }
   ],
   "source": [
    "model_forest = joblib.load('best_estimator.pkl')\n",
    "joblib.dump(model_forest, 'model_forest.pkl', compress=1)"
   ]
  },
  {
   "cell_type": "markdown",
   "metadata": {},
   "source": [
    "Логистическая регрессия дает результат лучше, при этом результат может быть получен гораздо быстрее, что больше отвечает интересам бизнеса. Проверим еще LGBM."
   ]
  },
  {
   "cell_type": "code",
   "execution_count": 23,
   "metadata": {},
   "outputs": [
    {
     "name": "stdout",
     "output_type": "stream",
     "text": [
      "\n",
      "Estimator: LGBM\n",
      "Best training F1: 0.697\n",
      "\n",
      "Saved LGBM grid search pipeline to file: best_estimator.pkl\n",
      "CPU times: user 3min 13s, sys: 20.4 s, total: 3min 34s\n",
      "Wall time: 8min 14s\n"
     ]
    }
   ],
   "source": [
    "%%time\n",
    "make_some_pipe(model_name = 'LGBM',\n",
    "               model = lgb.LGBMClassifier(random_state=12345)\n",
    "               parameters = [{'lgbmclassifier__n_estimators': range (100,300,50),\n",
    "                              'lgbmclassifier__max_depth':(3,12)}],\n",
    "               features_train = train_features,\n",
    "               target_train = train_target)"
   ]
  },
  {
   "cell_type": "code",
   "execution_count": 24,
   "metadata": {
    "scrolled": true
   },
   "outputs": [
    {
     "data": {
      "text/plain": [
       "['model_lgdb.pkl']"
      ]
     },
     "execution_count": 24,
     "metadata": {},
     "output_type": "execute_result"
    }
   ],
   "source": [
    "model_lgdb = joblib.load('best_estimator.pkl')\n",
    "joblib.dump(model_lgdb, 'model_lgdb.pkl', compress=1)"
   ]
  },
  {
   "cell_type": "markdown",
   "metadata": {},
   "source": [
    "Данная модель дает наилучший результат и достаточно быстро."
   ]
  },
  {
   "cell_type": "markdown",
   "metadata": {},
   "source": [
    "Следует отметить, что возможно выбор оверсэмплинга не совсем отвечает структуре данных (только 10% комментариев реально токсичные), а также в приниципе подходит задаче классификации текстов, проверим результат в случае замены в функции smote на нашу самописную функцию downsampling."
   ]
  },
  {
   "cell_type": "code",
   "execution_count": 25,
   "metadata": {},
   "outputs": [
    {
     "data": {
      "text/plain": [
       "0.11311015662123004"
      ]
     },
     "execution_count": 25,
     "metadata": {},
     "output_type": "execute_result"
    }
   ],
   "source": [
    "len(train_features[target == 1])/len(train_features[target == 0])"
   ]
  },
  {
   "cell_type": "code",
   "execution_count": 26,
   "metadata": {},
   "outputs": [],
   "source": [
    "def downsample(features, target, fraction):\n",
    "    features_zeros = features[target == 0]\n",
    "    features_ones = features[target == 1]\n",
    "    target_zeros = target[target == 0]\n",
    "    target_ones = target[target == 1]\n",
    "\n",
    "    features_downsampled = pd.concat(\n",
    "        [features_zeros.sample(frac=fraction, random_state=12345)] + [features_ones])\n",
    "    target_downsampled = pd.concat(\n",
    "        [target_zeros.sample(frac=fraction, random_state=12345)] + [target_ones])\n",
    "    \n",
    "    features_downsampled, target_downsampled = shuffle(\n",
    "        features_downsampled, target_downsampled, random_state=12345)\n",
    "    \n",
    "    return features_downsampled, target_downsampled"
   ]
  },
  {
   "cell_type": "code",
   "execution_count": 27,
   "metadata": {},
   "outputs": [],
   "source": [
    "features_downsampled, target_downsampled = downsample(train_features, train_target, 0.25)"
   ]
  },
  {
   "cell_type": "code",
   "execution_count": 28,
   "metadata": {},
   "outputs": [],
   "source": [
    "def make_some_pipe_down_s (model_name, model, parameters, features_train, target_train):\n",
    "    \n",
    "    #oversample with SMOTE + \n",
    "    pipeline = make_pipeline_imb(TfidfVectorizer(stop_words=stopwords),model)\n",
    "    gs = GridSearchCV(pipeline, parameters, n_jobs=-1, cv=5, scoring = 'f1')\n",
    "    print('\\nEstimator: %s' % model_name)\n",
    "    gs.fit(features_train, target_train)\n",
    "    print('Best training F1: %.3f' % gs.best_score_)\n",
    "    dump_file = 'best_estimator.pkl'\n",
    "    joblib.dump(gs.best_estimator_, dump_file, compress=1)\n",
    "    print('\\nSaved %s grid search pipeline to file: %s' % (model_name, dump_file))"
   ]
  },
  {
   "cell_type": "code",
   "execution_count": 29,
   "metadata": {},
   "outputs": [
    {
     "name": "stdout",
     "output_type": "stream",
     "text": [
      "\n",
      "Estimator: LGBM\n",
      "Best training F1: 0.831\n",
      "\n",
      "Saved LGBM grid search pipeline to file: best_estimator.pkl\n",
      "CPU times: user 35.7 s, sys: 5.32 s, total: 41 s\n",
      "Wall time: 55.3 s\n"
     ]
    }
   ],
   "source": [
    "%%time\n",
    "make_some_pipe_down_s(model_name = 'LGBM',\n",
    "               model = lgb.LGBMClassifier(random_state=12345),\n",
    "               parameters = [{'lgbmclassifier__n_estimators': range (100,300,50),\n",
    "                              'lgbmclassifier__max_depth':(3,12),\n",
    "                              'learning_rate':(0.001,0.03,0.1)}],\n",
    "               features_train = features_downsampled,\n",
    "               target_train = target_downsampled)"
   ]
  },
  {
   "cell_type": "code",
   "execution_count": 30,
   "metadata": {},
   "outputs": [
    {
     "data": {
      "text/plain": [
       "['model_lgdb_down.pkl']"
      ]
     },
     "execution_count": 30,
     "metadata": {},
     "output_type": "execute_result"
    }
   ],
   "source": [
    "model_lgdb_down = joblib.load('best_estimator.pkl')\n",
    "joblib.dump(model_lgdb_down, 'model_lgdb_down.pkl', compress=1)"
   ]
  },
  {
   "cell_type": "markdown",
   "metadata": {},
   "source": [
    "Итого замена SMOTE на downsampling дала наилучшие результаты, поэтому остановимся именно на LGBM, обученной на данных, прошедших через downsampling."
   ]
  },
  {
   "cell_type": "markdown",
   "metadata": {},
   "source": [
    "## Выводы"
   ]
  },
  {
   "cell_type": "code",
   "execution_count": 31,
   "metadata": {},
   "outputs": [
    {
     "name": "stdout",
     "output_type": "stream",
     "text": [
      "F1 модели lgbm на тестовой выборке:0.77\n"
     ]
    }
   ],
   "source": [
    "model_lgbm_down = joblib.load('model_lgdb_down.pkl')\n",
    "predicted_test = model_lgbm_down.predict(test_features)\n",
    "print(\"F1 модели lgbm на тестовой выборке:{:.2f}\".format(\n",
    "    f1_score(test_target, predicted_test)))"
   ]
  },
  {
   "cell_type": "code",
   "execution_count": 32,
   "metadata": {},
   "outputs": [
    {
     "name": "stdout",
     "output_type": "stream",
     "text": [
      "              precision    recall  f1-score   support\n",
      "\n",
      "   Non-toxic       0.97      0.98      0.97     35777\n",
      "       Toxic       0.79      0.75      0.77      4046\n",
      "\n",
      "    accuracy                           0.95     39823\n",
      "   macro avg       0.88      0.86      0.87     39823\n",
      "weighted avg       0.95      0.95      0.95     39823\n",
      "\n"
     ]
    }
   ],
   "source": [
    "report = classification_report(test_target, predicted_test,\n",
    "                               target_names=['Non-toxic', 'Toxic'])\n",
    "print(report)"
   ]
  },
  {
   "attachments": {},
   "cell_type": "markdown",
   "metadata": {},
   "source": [
    "Итого мы получили на тестовых данных значение f1 для предсказания класса токсичных комментариев в 0,77, при этом отдельно полнота составила 0,76 (т.е. 76% токсичных комментариев модель находит корректно), а точность - 0,78 (т.е. в 78% случаев комментарии, обозначенные моделью как токсичные, действительно были таковыми).\n",
    "\n",
    "Построим ROC-кривую, а также найдем площадь образуемой ею фигуры (AUC-ROC) для понимания соотношения корректно найденных моделью токсичных комментариев и тех, кого она неверно обозначила в прогнозе как токсичных. Для наглядности результатов добавим на график прямую, обозначающую модель, которая случайным образом выдает вероятность того, что твит является токсичным."
   ]
  },
  {
   "cell_type": "code",
   "execution_count": 34,
   "metadata": {},
   "outputs": [
    {
     "name": "stdout",
     "output_type": "stream",
     "text": [
      "AUC-ROC модели на тестовой выборке:0.9576\n"
     ]
    },
    {
     "data": {
      "image/png": "[encoded data removed]",
      "text/plain": [
       "<Figure size 432x288 with 1 Axes>"
      ]
     },
     "metadata": {
      "needs_background": "light"
     },
     "output_type": "display_data"
    }
   ],
   "source": [
    "probabilities_test = model_lgbm_down.predict_proba(test_features)\n",
    "probabilities_one_test = probabilities_test[:, 1]\n",
    "print(\"AUC-ROC модели на тестовой выборке:{:.4f}\".format(roc_auc_score(test_target, probabilities_one_test)))\n",
    "\n",
    "fpr, tpr, thresholds = roc_curve(test_target, probabilities_one_test)\n",
    "plt.plot(fpr, tpr, label='Модель LGBM')\n",
    "plt.xlim([0,1])\n",
    "plt.ylim([0,1])\n",
    "plt.xlabel(\"False Positive Rate\", fontsize=10)\n",
    "plt.ylabel(\"True Positive Rate\", fontsize=10)\n",
    "plt.title(\"ROC-кривая\", fontsize=14)\n",
    "\n",
    "plt.plot([0, 1], [0, 1], linestyle='--', label='Случайная модель')# добавим для наглядности график случайной модели\n",
    "plt.legend()\n",
    "plt.show()"
   ]
  },
  {
   "cell_type": "markdown",
   "metadata": {},
   "source": [
    "Итого данная модель отвечает требованиям заказчика, результат по целевой метрике F1 0,77, что соответсвует тех. заданию, при этом модель и вся подготовка работают достаточно быстро, чтобы в онлайн режиме отсеивать токсичные комментарии."
   ]
  }
 ],
 "metadata": {
  "kernelspec": {
   "display_name": "Python 3 (ipykernel)",
   "language": "python",
   "name": "python3"
  },
  "language_info": {
   "codemirror_mode": {
    "name": "ipython",
    "version": 3
   },
   "file_extension": ".py",
   "mimetype": "text/x-python",
   "name": "python",
   "nbconvert_exporter": "python",
   "pygments_lexer": "ipython3",
   "version": "3.9.12"
  },
  "toc": {
   "base_numbering": 1,
   "nav_menu": {},
   "number_sections": true,
   "sideBar": true,
   "skip_h1_title": true,
   "title_cell": "Содержание",
   "title_sidebar": "Contents",
   "toc_cell": true,
   "toc_position": {
    "height": "calc(100% - 180px)",
    "left": "10px",
    "top": "150px",
    "width": "302.391px"
   },
   "toc_section_display": true,
   "toc_window_display": false
  }
 },
 "nbformat": 4,
 "nbformat_minor": 2
}
